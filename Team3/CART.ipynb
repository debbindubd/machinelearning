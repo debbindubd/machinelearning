{
 "cells": [
  {
   "cell_type": "code",
   "execution_count": 1,
   "id": "a3054d20-c93b-4326-bb42-60f08b9518a3",
   "metadata": {
    "ExecuteTime": {
     "end_time": "2024-09-19T19:09:22.925997Z",
     "start_time": "2024-09-19T19:09:22.911346Z"
    }
   },
   "outputs": [],
   "source": [
    "\n",
    "import numpy as np\n",
    "import h5py\n",
    "import re\n",
    "import csv\n",
    "import math\n",
    "import pandas as pd\n",
    "import matplotlib.pyplot as plt\n",
    "from pandas import read_excel\n",
    "from sklearn.model_selection import train_test_split\n",
    "from gensim.models import Word2Vec\n",
    "from sklearn import metrics\n",
    "from sklearn.metrics import accuracy_score\n",
    "from sklearn.metrics import classification_report\n",
    "from sklearn.model_selection import cross_val_score, StratifiedKFold\n",
    "from sklearn.feature_extraction.text import TfidfVectorizer\n",
    "import seaborn as sns\n",
    "#Algorithm\n",
    "from sklearn.linear_model import LogisticRegression\n",
    "from sklearn.naive_bayes import MultinomialNB\n",
    "from sklearn.preprocessing import StandardScaler\n",
    "from sklearn.tree import DecisionTreeClassifier\n",
    "\n",
    "# For Output\n",
    "from sklearn.metrics import precision_recall_fscore_support\n",
    "from sklearn.metrics import roc_curve, roc_auc_score\n",
    "from sklearn.metrics import confusion_matrix\n",
    "from sklearn.linear_model import LogisticRegression\n",
    "from sklearn.metrics import confusion_matrix, classification_report\n",
    "from sklearn.model_selection import train_test_split\n",
    "from sklearn.metrics import precision_score, recall_score, f1_score\n",
    "from sklearn.svm import SVC\n",
    "from sklearn.metrics import confusion_matrix, classification_report, roc_curve, auc\n",
    "from sklearn.model_selection import train_test_split\n",
    "from sklearn.preprocessing import label_binarize"
   ]
  },
  {
   "cell_type": "markdown",
   "id": "e1c34f84-f4df-491d-9602-17d824ef9b45",
   "metadata": {},
   "source": [
    "## Importing the Data SET"
   ]
  },
  {
   "cell_type": "code",
   "execution_count": 2,
   "id": "31c5a49b-53e8-4dc7-804c-c0c03beae253",
   "metadata": {},
   "outputs": [
    {
     "data": {
      "text/html": [
       "<div>\n",
       "<style scoped>\n",
       "    .dataframe tbody tr th:only-of-type {\n",
       "        vertical-align: middle;\n",
       "    }\n",
       "\n",
       "    .dataframe tbody tr th {\n",
       "        vertical-align: top;\n",
       "    }\n",
       "\n",
       "    .dataframe thead th {\n",
       "        text-align: right;\n",
       "    }\n",
       "</style>\n",
       "<table border=\"1\" class=\"dataframe\">\n",
       "  <thead>\n",
       "    <tr style=\"text-align: right;\">\n",
       "      <th></th>\n",
       "      <th>comments</th>\n",
       "      <th>reaction_type</th>\n",
       "    </tr>\n",
       "  </thead>\n",
       "  <tbody>\n",
       "    <tr>\n",
       "      <th>0</th>\n",
       "      <td>নবীজির কণ্ঠে কোরআন তিলাওয়াত এতোই সুন্দর ছিলো য...</td>\n",
       "      <td>positive</td>\n",
       "    </tr>\n",
       "    <tr>\n",
       "      <th>1</th>\n",
       "      <td>ভাই ছোটবেলার কথা মনে পরে গেলো অনেকবার দেখেছি ছ...</td>\n",
       "      <td>neutral</td>\n",
       "    </tr>\n",
       "    <tr>\n",
       "      <th>2</th>\n",
       "      <td>ওহ ভাই দারুন হয়েছে</td>\n",
       "      <td>positive</td>\n",
       "    </tr>\n",
       "    <tr>\n",
       "      <th>3</th>\n",
       "      <td>আমি ছোট বেলায় দেখেছি সিডি ডিক্স এখুব মজা পেয়েছ...</td>\n",
       "      <td>neutral</td>\n",
       "    </tr>\n",
       "    <tr>\n",
       "      <th>4</th>\n",
       "      <td>সবসময় আপনার ভিডিও অপেক্ষায় থাকিএই ছবিটা অনেক ব...</td>\n",
       "      <td>positive</td>\n",
       "    </tr>\n",
       "    <tr>\n",
       "      <th>...</th>\n",
       "      <td>...</td>\n",
       "      <td>...</td>\n",
       "    </tr>\n",
       "    <tr>\n",
       "      <th>18257</th>\n",
       "      <td>মানতে পারি নাই</td>\n",
       "      <td>neutral</td>\n",
       "    </tr>\n",
       "    <tr>\n",
       "      <th>18258</th>\n",
       "      <td>ভাই এটা কি দেখলাম</td>\n",
       "      <td>neutral</td>\n",
       "    </tr>\n",
       "    <tr>\n",
       "      <th>18259</th>\n",
       "      <td>একটা কমেন্ট রেখে গেলাম</td>\n",
       "      <td>positive</td>\n",
       "    </tr>\n",
       "    <tr>\n",
       "      <th>18260</th>\n",
       "      <td>এটা কী হয়</td>\n",
       "      <td>neutral</td>\n",
       "    </tr>\n",
       "    <tr>\n",
       "      <th>18261</th>\n",
       "      <td>তোমার গল্প সব হলো পরাজিতো গল্প যয় কই পাবো</td>\n",
       "      <td>positive</td>\n",
       "    </tr>\n",
       "  </tbody>\n",
       "</table>\n",
       "<p>18262 rows × 2 columns</p>\n",
       "</div>"
      ],
      "text/plain": [
       "                                                comments reaction_type\n",
       "0      নবীজির কণ্ঠে কোরআন তিলাওয়াত এতোই সুন্দর ছিলো য...      positive\n",
       "1      ভাই ছোটবেলার কথা মনে পরে গেলো অনেকবার দেখেছি ছ...       neutral\n",
       "2                                     ওহ ভাই দারুন হয়েছে      positive\n",
       "3      আমি ছোট বেলায় দেখেছি সিডি ডিক্স এখুব মজা পেয়েছ...       neutral\n",
       "4      সবসময় আপনার ভিডিও অপেক্ষায় থাকিএই ছবিটা অনেক ব...      positive\n",
       "...                                                  ...           ...\n",
       "18257                                     মানতে পারি নাই       neutral\n",
       "18258                                  ভাই এটা কি দেখলাম       neutral\n",
       "18259                             একটা কমেন্ট রেখে গেলাম      positive\n",
       "18260                                         এটা কী হয়       neutral\n",
       "18261          তোমার গল্প সব হলো পরাজিতো গল্প যয় কই পাবো      positive\n",
       "\n",
       "[18262 rows x 2 columns]"
      ]
     },
     "execution_count": 2,
     "metadata": {},
     "output_type": "execute_result"
    }
   ],
   "source": [
    "df_data =pd.read_csv('deb_data_raw.csv')\n",
    "\n",
    "df_data"
   ]
  },
  {
   "cell_type": "markdown",
   "id": "535843b5-7cb2-4cf4-b00d-65f8984e7c91",
   "metadata": {},
   "source": [
    "## Preprocessing"
   ]
  },
  {
   "cell_type": "code",
   "execution_count": 3,
   "id": "358d3b67-0e16-45e3-8161-ec83932127da",
   "metadata": {},
   "outputs": [],
   "source": [
    "def text_to_word_list(text):\n",
    "    text = text.split()\n",
    "    return text\n",
    "\n",
    "def replace_strings(text):\n",
    "    emoji_pattern = re.compile(\"[\"\n",
    "                           u\"\\U0001F600-\\U0001F64F\"  # emoticons\n",
    "                           u\"\\U0001F300-\\U0001F5FF\"  # symbols & pictographs\n",
    "                           u\"\\U0001F680-\\U0001F6FF\"  # transport & map symbols\n",
    "                           u\"\\U0001F1E0-\\U0001F1FF\"  # flags (iOS)\n",
    "                           u\"\\U00002702-\\U000027B0\"\n",
    "                           u\"\\U000024C2-\\U0001F251\"\n",
    "                           u\"\\u00C0-\\u017F\"          #latin\n",
    "                           u\"\\u2000-\\u206F\"          #generalPunctuations\n",
    "\n",
    "                           \"]+\", flags=re.UNICODE)\n",
    "    english_pattern=re.compile('[a-zA-Z0-9]+', flags=re.I)\n",
    "    #latin_pattern=re.compile('[A-Za-z\\u00C0-\\u00D6\\u00D8-\\u00f6\\u00f8-\\u00ff\\s]*',)\n",
    "\n",
    "    text=emoji_pattern.sub(r'', text)\n",
    "    text=english_pattern.sub(r'', text)\n",
    "\n",
    "    return text\n",
    "\n",
    "def remove_punctuations(my_str):\n",
    "    # define punctuation\n",
    "    punctuations = '''````£|¢|Ñ+-*/=EROero৳০১২৩৪৫৬৭৮৯012–34567•89।!()-[]{};:'\"“\\’,<>./?@#$%^&*_~‘—॥”‰🤣⚽️✌�￰৷￰'''\n",
    "\n",
    "    no_punct = \"\"\n",
    "    for char in my_str:\n",
    "        if char not in punctuations:\n",
    "            no_punct = no_punct + char\n",
    "\n",
    "    # display the unpunctuated string\n",
    "    return no_punct\n",
    "\n",
    "def joining(text):\n",
    "    out=' '.join(text)\n",
    "    return out\n",
    "\n",
    "def preprocessing(text):\n",
    "    out=remove_punctuations(replace_strings(text))\n",
    "    return out"
   ]
  },
  {
   "cell_type": "code",
   "execution_count": 4,
   "id": "583950a7-0ad9-4545-a43f-47604de55042",
   "metadata": {},
   "outputs": [],
   "source": [
    "df_data['comments'] = df_data.comments.apply(lambda x: preprocessing(str(x)))"
   ]
  },
  {
   "cell_type": "code",
   "execution_count": 5,
   "id": "9c0d0c0a-c2dd-4dfc-8f10-a23466fddbf6",
   "metadata": {},
   "outputs": [
    {
     "data": {
      "text/html": [
       "<div>\n",
       "<style scoped>\n",
       "    .dataframe tbody tr th:only-of-type {\n",
       "        vertical-align: middle;\n",
       "    }\n",
       "\n",
       "    .dataframe tbody tr th {\n",
       "        vertical-align: top;\n",
       "    }\n",
       "\n",
       "    .dataframe thead th {\n",
       "        text-align: right;\n",
       "    }\n",
       "</style>\n",
       "<table border=\"1\" class=\"dataframe\">\n",
       "  <thead>\n",
       "    <tr style=\"text-align: right;\">\n",
       "      <th></th>\n",
       "      <th>comments</th>\n",
       "      <th>reaction_type</th>\n",
       "    </tr>\n",
       "  </thead>\n",
       "  <tbody>\n",
       "    <tr>\n",
       "      <th>0</th>\n",
       "      <td>নবীজির কণ্ঠে কোরআন তিলাওয়াত এতোই সুন্দর ছিলো য...</td>\n",
       "      <td>positive</td>\n",
       "    </tr>\n",
       "    <tr>\n",
       "      <th>1</th>\n",
       "      <td>ভাই ছোটবেলার কথা মনে পরে গেলো অনেকবার দেখেছি ছ...</td>\n",
       "      <td>neutral</td>\n",
       "    </tr>\n",
       "    <tr>\n",
       "      <th>2</th>\n",
       "      <td>ওহ ভাই দারুন হয়েছে</td>\n",
       "      <td>positive</td>\n",
       "    </tr>\n",
       "    <tr>\n",
       "      <th>3</th>\n",
       "      <td>আমি ছোট বেলায় দেখেছি সিডি ডিক্স এখুব মজা পেয়েছ...</td>\n",
       "      <td>neutral</td>\n",
       "    </tr>\n",
       "    <tr>\n",
       "      <th>4</th>\n",
       "      <td>সবসময় আপনার ভিডিও অপেক্ষায় থাকিএই ছবিটা অনেক ব...</td>\n",
       "      <td>positive</td>\n",
       "    </tr>\n",
       "    <tr>\n",
       "      <th>...</th>\n",
       "      <td>...</td>\n",
       "      <td>...</td>\n",
       "    </tr>\n",
       "    <tr>\n",
       "      <th>18257</th>\n",
       "      <td>মানতে পারি নাই</td>\n",
       "      <td>neutral</td>\n",
       "    </tr>\n",
       "    <tr>\n",
       "      <th>18258</th>\n",
       "      <td>ভাই এটা কি দেখলাম</td>\n",
       "      <td>neutral</td>\n",
       "    </tr>\n",
       "    <tr>\n",
       "      <th>18259</th>\n",
       "      <td>একটা কমেন্ট রেখে গেলাম</td>\n",
       "      <td>positive</td>\n",
       "    </tr>\n",
       "    <tr>\n",
       "      <th>18260</th>\n",
       "      <td>এটা কী হয়</td>\n",
       "      <td>neutral</td>\n",
       "    </tr>\n",
       "    <tr>\n",
       "      <th>18261</th>\n",
       "      <td>তোমার গল্প সব হলো পরাজিতো গল্প যয় কই পাবো</td>\n",
       "      <td>positive</td>\n",
       "    </tr>\n",
       "  </tbody>\n",
       "</table>\n",
       "<p>18262 rows × 2 columns</p>\n",
       "</div>"
      ],
      "text/plain": [
       "                                                comments reaction_type\n",
       "0      নবীজির কণ্ঠে কোরআন তিলাওয়াত এতোই সুন্দর ছিলো য...      positive\n",
       "1      ভাই ছোটবেলার কথা মনে পরে গেলো অনেকবার দেখেছি ছ...       neutral\n",
       "2                                     ওহ ভাই দারুন হয়েছে      positive\n",
       "3      আমি ছোট বেলায় দেখেছি সিডি ডিক্স এখুব মজা পেয়েছ...       neutral\n",
       "4      সবসময় আপনার ভিডিও অপেক্ষায় থাকিএই ছবিটা অনেক ব...      positive\n",
       "...                                                  ...           ...\n",
       "18257                                     মানতে পারি নাই       neutral\n",
       "18258                                  ভাই এটা কি দেখলাম       neutral\n",
       "18259                             একটা কমেন্ট রেখে গেলাম      positive\n",
       "18260                                         এটা কী হয়       neutral\n",
       "18261          তোমার গল্প সব হলো পরাজিতো গল্প যয় কই পাবো      positive\n",
       "\n",
       "[18262 rows x 2 columns]"
      ]
     },
     "execution_count": 5,
     "metadata": {},
     "output_type": "execute_result"
    }
   ],
   "source": [
    "df_data"
   ]
  },
  {
   "cell_type": "markdown",
   "id": "10ae253e-bf21-4ed7-a013-e75607127563",
   "metadata": {},
   "source": [
    "## Stopwords Removal"
   ]
  },
  {
   "cell_type": "code",
   "execution_count": 6,
   "id": "5b04a5f2-dc24-431a-a841-402369ac0bba",
   "metadata": {},
   "outputs": [
    {
     "data": {
      "text/html": [
       "<div>\n",
       "<style scoped>\n",
       "    .dataframe tbody tr th:only-of-type {\n",
       "        vertical-align: middle;\n",
       "    }\n",
       "\n",
       "    .dataframe tbody tr th {\n",
       "        vertical-align: top;\n",
       "    }\n",
       "\n",
       "    .dataframe thead th {\n",
       "        text-align: right;\n",
       "    }\n",
       "</style>\n",
       "<table border=\"1\" class=\"dataframe\">\n",
       "  <thead>\n",
       "    <tr style=\"text-align: right;\">\n",
       "      <th></th>\n",
       "      <th>words</th>\n",
       "    </tr>\n",
       "  </thead>\n",
       "  <tbody>\n",
       "    <tr>\n",
       "      <th>0</th>\n",
       "      <td>অই</td>\n",
       "    </tr>\n",
       "    <tr>\n",
       "      <th>1</th>\n",
       "      <td>অগত্যা</td>\n",
       "    </tr>\n",
       "    <tr>\n",
       "      <th>2</th>\n",
       "      <td>অত: পর</td>\n",
       "    </tr>\n",
       "    <tr>\n",
       "      <th>3</th>\n",
       "      <td>অতএব</td>\n",
       "    </tr>\n",
       "    <tr>\n",
       "      <th>4</th>\n",
       "      <td>অথচ</td>\n",
       "    </tr>\n",
       "    <tr>\n",
       "      <th>...</th>\n",
       "      <td>...</td>\n",
       "    </tr>\n",
       "    <tr>\n",
       "      <th>727</th>\n",
       "      <td>হয়েই</td>\n",
       "    </tr>\n",
       "    <tr>\n",
       "      <th>728</th>\n",
       "      <td>হয়েছিল</td>\n",
       "    </tr>\n",
       "    <tr>\n",
       "      <th>729</th>\n",
       "      <td>হয়েছে</td>\n",
       "    </tr>\n",
       "    <tr>\n",
       "      <th>730</th>\n",
       "      <td>হয়েছেন</td>\n",
       "    </tr>\n",
       "    <tr>\n",
       "      <th>731</th>\n",
       "      <td>অংশ</td>\n",
       "    </tr>\n",
       "  </tbody>\n",
       "</table>\n",
       "<p>732 rows × 1 columns</p>\n",
       "</div>"
      ],
      "text/plain": [
       "      words\n",
       "0        অই\n",
       "1    অগত্যা\n",
       "2    অত: পর\n",
       "3      অতএব\n",
       "4       অথচ\n",
       "..      ...\n",
       "727    হয়েই\n",
       "728  হয়েছিল\n",
       "729   হয়েছে\n",
       "730  হয়েছেন\n",
       "731     অংশ\n",
       "\n",
       "[732 rows x 1 columns]"
      ]
     },
     "metadata": {},
     "output_type": "display_data"
    }
   ],
   "source": [
    "data1 =pd.read_excel('stopwords_bangla.xlsx')\n",
    "display(data1)\n",
    "stop = data1['words'].tolist()"
   ]
  },
  {
   "cell_type": "code",
   "execution_count": 7,
   "id": "7e3fae15-f1f0-473e-87ba-506d4e1b3267",
   "metadata": {},
   "outputs": [],
   "source": [
    "def stopwordRemoval(text):    \n",
    "    x=str(text)\n",
    "    l=x.split()\n",
    "\n",
    "    stm=[elem for elem in l if elem not in stop]\n",
    "    \n",
    "    out=' '.join(stm)\n",
    "    \n",
    "    return str(out)"
   ]
  },
  {
   "cell_type": "code",
   "execution_count": 8,
   "id": "e3d99abe-10b7-4e54-b418-59a49b2ff410",
   "metadata": {},
   "outputs": [],
   "source": [
    "# df_data['comments'] = df_data.comments.apply(lambda x: stopwordRemoval(str(x)))"
   ]
  },
  {
   "cell_type": "markdown",
   "id": "d6c36c15-9b39-49c9-ba57-f79479757a0a",
   "metadata": {},
   "source": [
    "## Stemming"
   ]
  },
  {
   "cell_type": "code",
   "execution_count": 9,
   "id": "039dd00b-8315-4beb-9438-e146ddc001bb",
   "metadata": {},
   "outputs": [
    {
     "name": "stdout",
     "output_type": "stream",
     "text": [
      "Requirement already satisfied: bangla-stemmer in /mnt/c/Users/Deb/Desktop/AllTask/ml_env/lib/python3.12/site-packages (1.0)\n"
     ]
    }
   ],
   "source": [
    "#make sure to turn on internet on your kernel\n",
    "#importing stemmer\n",
    "!pip install bangla-stemmer\n",
    "from bangla_stemmer.stemmer import stemmer\n",
    "## stemmer function\n",
    "def stem_text (x):\n",
    "  stmr = stemmer.BanglaStemmer()\n",
    "  words=x.split(' ')\n",
    "  stm = stmr.stem(words)\n",
    "  words=(' ').join(stm)\n",
    "  return words"
   ]
  },
  {
   "cell_type": "code",
   "execution_count": 10,
   "id": "27346b5c-71a8-4c00-9d1f-c1eb544937b4",
   "metadata": {},
   "outputs": [],
   "source": [
    "# df_data['comments']=df_data['comments'].apply(stem_text)"
   ]
  },
  {
   "cell_type": "markdown",
   "id": "1fcd1d72-39f6-4a94-961d-eff4aa62bea7",
   "metadata": {},
   "source": [
    "## Checking the Data"
   ]
  },
  {
   "cell_type": "code",
   "execution_count": 11,
   "id": "6ca99644-3c4d-48ac-95f8-1536e329ff2d",
   "metadata": {},
   "outputs": [
    {
     "data": {
      "text/html": [
       "<div>\n",
       "<style scoped>\n",
       "    .dataframe tbody tr th:only-of-type {\n",
       "        vertical-align: middle;\n",
       "    }\n",
       "\n",
       "    .dataframe tbody tr th {\n",
       "        vertical-align: top;\n",
       "    }\n",
       "\n",
       "    .dataframe thead th {\n",
       "        text-align: right;\n",
       "    }\n",
       "</style>\n",
       "<table border=\"1\" class=\"dataframe\">\n",
       "  <thead>\n",
       "    <tr style=\"text-align: right;\">\n",
       "      <th></th>\n",
       "      <th>comments</th>\n",
       "      <th>reaction_type</th>\n",
       "    </tr>\n",
       "  </thead>\n",
       "  <tbody>\n",
       "    <tr>\n",
       "      <th>0</th>\n",
       "      <td>নবীজির কণ্ঠে কোরআন তিলাওয়াত এতোই সুন্দর ছিলো য...</td>\n",
       "      <td>positive</td>\n",
       "    </tr>\n",
       "    <tr>\n",
       "      <th>1</th>\n",
       "      <td>ভাই ছোটবেলার কথা মনে পরে গেলো অনেকবার দেখেছি ছ...</td>\n",
       "      <td>neutral</td>\n",
       "    </tr>\n",
       "    <tr>\n",
       "      <th>2</th>\n",
       "      <td>ওহ ভাই দারুন হয়েছে</td>\n",
       "      <td>positive</td>\n",
       "    </tr>\n",
       "    <tr>\n",
       "      <th>3</th>\n",
       "      <td>আমি ছোট বেলায় দেখেছি সিডি ডিক্স এখুব মজা পেয়েছ...</td>\n",
       "      <td>neutral</td>\n",
       "    </tr>\n",
       "    <tr>\n",
       "      <th>4</th>\n",
       "      <td>সবসময় আপনার ভিডিও অপেক্ষায় থাকিএই ছবিটা অনেক ব...</td>\n",
       "      <td>positive</td>\n",
       "    </tr>\n",
       "    <tr>\n",
       "      <th>...</th>\n",
       "      <td>...</td>\n",
       "      <td>...</td>\n",
       "    </tr>\n",
       "    <tr>\n",
       "      <th>18257</th>\n",
       "      <td>মানতে পারি নাই</td>\n",
       "      <td>neutral</td>\n",
       "    </tr>\n",
       "    <tr>\n",
       "      <th>18258</th>\n",
       "      <td>ভাই এটা কি দেখলাম</td>\n",
       "      <td>neutral</td>\n",
       "    </tr>\n",
       "    <tr>\n",
       "      <th>18259</th>\n",
       "      <td>একটা কমেন্ট রেখে গেলাম</td>\n",
       "      <td>positive</td>\n",
       "    </tr>\n",
       "    <tr>\n",
       "      <th>18260</th>\n",
       "      <td>এটা কী হয়</td>\n",
       "      <td>neutral</td>\n",
       "    </tr>\n",
       "    <tr>\n",
       "      <th>18261</th>\n",
       "      <td>তোমার গল্প সব হলো পরাজিতো গল্প যয় কই পাবো</td>\n",
       "      <td>positive</td>\n",
       "    </tr>\n",
       "  </tbody>\n",
       "</table>\n",
       "<p>18262 rows × 2 columns</p>\n",
       "</div>"
      ],
      "text/plain": [
       "                                                comments reaction_type\n",
       "0      নবীজির কণ্ঠে কোরআন তিলাওয়াত এতোই সুন্দর ছিলো য...      positive\n",
       "1      ভাই ছোটবেলার কথা মনে পরে গেলো অনেকবার দেখেছি ছ...       neutral\n",
       "2                                     ওহ ভাই দারুন হয়েছে      positive\n",
       "3      আমি ছোট বেলায় দেখেছি সিডি ডিক্স এখুব মজা পেয়েছ...       neutral\n",
       "4      সবসময় আপনার ভিডিও অপেক্ষায় থাকিএই ছবিটা অনেক ব...      positive\n",
       "...                                                  ...           ...\n",
       "18257                                     মানতে পারি নাই       neutral\n",
       "18258                                  ভাই এটা কি দেখলাম       neutral\n",
       "18259                             একটা কমেন্ট রেখে গেলাম      positive\n",
       "18260                                         এটা কী হয়       neutral\n",
       "18261          তোমার গল্প সব হলো পরাজিতো গল্প যয় কই পাবো      positive\n",
       "\n",
       "[18262 rows x 2 columns]"
      ]
     },
     "execution_count": 11,
     "metadata": {},
     "output_type": "execute_result"
    }
   ],
   "source": [
    "df_data"
   ]
  },
  {
   "cell_type": "markdown",
   "id": "d819adab-a4c2-4693-8062-2805d96c2e2d",
   "metadata": {},
   "source": [
    "## Removing Null values"
   ]
  },
  {
   "cell_type": "code",
   "execution_count": 12,
   "id": "e4ceff2d-f97e-4154-8cbb-941ad57daad4",
   "metadata": {},
   "outputs": [],
   "source": [
    "#display non-null values\n",
    "df_data = df_data.dropna()"
   ]
  },
  {
   "cell_type": "markdown",
   "id": "00016fa3-e426-4000-a8bf-9371aab5d1e6",
   "metadata": {},
   "source": [
    "## Removing Small Texts"
   ]
  },
  {
   "cell_type": "code",
   "execution_count": 13,
   "id": "6025b1ec-f4de-4f90-9a2e-834ad08cf32a",
   "metadata": {},
   "outputs": [],
   "source": [
    "#counting text length\n",
    "# df_data['count'] = df_train['comments'].str.split().str.len()\n",
    "# Remove the text with words less than 5\n",
    "# df_data= df_data.loc[df_data['count']>5]"
   ]
  },
  {
   "cell_type": "markdown",
   "id": "0fc94d65-5d7c-40f8-b077-b4c8b2def06a",
   "metadata": {},
   "source": [
    "## Checking the Data"
   ]
  },
  {
   "cell_type": "code",
   "execution_count": 14,
   "id": "7463ad50-049b-4f6b-9186-6b2347803e55",
   "metadata": {},
   "outputs": [
    {
     "data": {
      "text/html": [
       "<div>\n",
       "<style scoped>\n",
       "    .dataframe tbody tr th:only-of-type {\n",
       "        vertical-align: middle;\n",
       "    }\n",
       "\n",
       "    .dataframe tbody tr th {\n",
       "        vertical-align: top;\n",
       "    }\n",
       "\n",
       "    .dataframe thead th {\n",
       "        text-align: right;\n",
       "    }\n",
       "</style>\n",
       "<table border=\"1\" class=\"dataframe\">\n",
       "  <thead>\n",
       "    <tr style=\"text-align: right;\">\n",
       "      <th></th>\n",
       "      <th>comments</th>\n",
       "      <th>reaction_type</th>\n",
       "    </tr>\n",
       "  </thead>\n",
       "  <tbody>\n",
       "    <tr>\n",
       "      <th>0</th>\n",
       "      <td>নবীজির কণ্ঠে কোরআন তিলাওয়াত এতোই সুন্দর ছিলো য...</td>\n",
       "      <td>positive</td>\n",
       "    </tr>\n",
       "    <tr>\n",
       "      <th>1</th>\n",
       "      <td>ভাই ছোটবেলার কথা মনে পরে গেলো অনেকবার দেখেছি ছ...</td>\n",
       "      <td>neutral</td>\n",
       "    </tr>\n",
       "    <tr>\n",
       "      <th>2</th>\n",
       "      <td>ওহ ভাই দারুন হয়েছে</td>\n",
       "      <td>positive</td>\n",
       "    </tr>\n",
       "    <tr>\n",
       "      <th>3</th>\n",
       "      <td>আমি ছোট বেলায় দেখেছি সিডি ডিক্স এখুব মজা পেয়েছ...</td>\n",
       "      <td>neutral</td>\n",
       "    </tr>\n",
       "    <tr>\n",
       "      <th>4</th>\n",
       "      <td>সবসময় আপনার ভিডিও অপেক্ষায় থাকিএই ছবিটা অনেক ব...</td>\n",
       "      <td>positive</td>\n",
       "    </tr>\n",
       "    <tr>\n",
       "      <th>...</th>\n",
       "      <td>...</td>\n",
       "      <td>...</td>\n",
       "    </tr>\n",
       "    <tr>\n",
       "      <th>18257</th>\n",
       "      <td>মানতে পারি নাই</td>\n",
       "      <td>neutral</td>\n",
       "    </tr>\n",
       "    <tr>\n",
       "      <th>18258</th>\n",
       "      <td>ভাই এটা কি দেখলাম</td>\n",
       "      <td>neutral</td>\n",
       "    </tr>\n",
       "    <tr>\n",
       "      <th>18259</th>\n",
       "      <td>একটা কমেন্ট রেখে গেলাম</td>\n",
       "      <td>positive</td>\n",
       "    </tr>\n",
       "    <tr>\n",
       "      <th>18260</th>\n",
       "      <td>এটা কী হয়</td>\n",
       "      <td>neutral</td>\n",
       "    </tr>\n",
       "    <tr>\n",
       "      <th>18261</th>\n",
       "      <td>তোমার গল্প সব হলো পরাজিতো গল্প যয় কই পাবো</td>\n",
       "      <td>positive</td>\n",
       "    </tr>\n",
       "  </tbody>\n",
       "</table>\n",
       "<p>18262 rows × 2 columns</p>\n",
       "</div>"
      ],
      "text/plain": [
       "                                                comments reaction_type\n",
       "0      নবীজির কণ্ঠে কোরআন তিলাওয়াত এতোই সুন্দর ছিলো য...      positive\n",
       "1      ভাই ছোটবেলার কথা মনে পরে গেলো অনেকবার দেখেছি ছ...       neutral\n",
       "2                                     ওহ ভাই দারুন হয়েছে      positive\n",
       "3      আমি ছোট বেলায় দেখেছি সিডি ডিক্স এখুব মজা পেয়েছ...       neutral\n",
       "4      সবসময় আপনার ভিডিও অপেক্ষায় থাকিএই ছবিটা অনেক ব...      positive\n",
       "...                                                  ...           ...\n",
       "18257                                     মানতে পারি নাই       neutral\n",
       "18258                                  ভাই এটা কি দেখলাম       neutral\n",
       "18259                             একটা কমেন্ট রেখে গেলাম      positive\n",
       "18260                                         এটা কী হয়       neutral\n",
       "18261          তোমার গল্প সব হলো পরাজিতো গল্প যয় কই পাবো      positive\n",
       "\n",
       "[18262 rows x 2 columns]"
      ]
     },
     "execution_count": 14,
     "metadata": {},
     "output_type": "execute_result"
    }
   ],
   "source": [
    "df_data"
   ]
  },
  {
   "cell_type": "markdown",
   "id": "edf38cf1-7a9c-4bfa-9c3e-bdde4131e920",
   "metadata": {},
   "source": [
    "## Changing Labels to Numbers\n"
   ]
  },
  {
   "cell_type": "code",
   "execution_count": 15,
   "id": "786eb197-84f9-4cc6-aab1-0ccd87d848a2",
   "metadata": {},
   "outputs": [
    {
     "name": "stderr",
     "output_type": "stream",
     "text": [
      "/tmp/ipykernel_17327/1620500157.py:1: FutureWarning: A value is trying to be set on a copy of a DataFrame or Series through chained assignment using an inplace method.\n",
      "The behavior will change in pandas 3.0. This inplace method will never work because the intermediate object on which we are setting values always behaves as a copy.\n",
      "\n",
      "For example, when doing 'df[col].method(value, inplace=True)', try using 'df.method({col: value}, inplace=True)' or df[col] = df[col].method(value) instead, to perform the operation inplace on the original object.\n",
      "\n",
      "\n",
      "  df_data[\"reaction_type\"].replace({\"negative\": \"0\", \"positive\": \"1\",\"neutral\": \"2\" }, inplace=True)\n"
     ]
    }
   ],
   "source": [
    "df_data[\"reaction_type\"].replace({\"negative\": \"0\", \"positive\": \"1\",\"neutral\": \"2\" }, inplace=True)"
   ]
  },
  {
   "cell_type": "code",
   "execution_count": 16,
   "id": "84ddfedd-798c-46fc-8410-6da4a373f73a",
   "metadata": {},
   "outputs": [
    {
     "data": {
      "text/html": [
       "<div>\n",
       "<style scoped>\n",
       "    .dataframe tbody tr th:only-of-type {\n",
       "        vertical-align: middle;\n",
       "    }\n",
       "\n",
       "    .dataframe tbody tr th {\n",
       "        vertical-align: top;\n",
       "    }\n",
       "\n",
       "    .dataframe thead th {\n",
       "        text-align: right;\n",
       "    }\n",
       "</style>\n",
       "<table border=\"1\" class=\"dataframe\">\n",
       "  <thead>\n",
       "    <tr style=\"text-align: right;\">\n",
       "      <th></th>\n",
       "      <th>comments</th>\n",
       "      <th>reaction_type</th>\n",
       "    </tr>\n",
       "  </thead>\n",
       "  <tbody>\n",
       "    <tr>\n",
       "      <th>0</th>\n",
       "      <td>নবীজির কণ্ঠে কোরআন তিলাওয়াত এতোই সুন্দর ছিলো য...</td>\n",
       "      <td>1</td>\n",
       "    </tr>\n",
       "    <tr>\n",
       "      <th>1</th>\n",
       "      <td>ভাই ছোটবেলার কথা মনে পরে গেলো অনেকবার দেখেছি ছ...</td>\n",
       "      <td>2</td>\n",
       "    </tr>\n",
       "    <tr>\n",
       "      <th>2</th>\n",
       "      <td>ওহ ভাই দারুন হয়েছে</td>\n",
       "      <td>1</td>\n",
       "    </tr>\n",
       "    <tr>\n",
       "      <th>3</th>\n",
       "      <td>আমি ছোট বেলায় দেখেছি সিডি ডিক্স এখুব মজা পেয়েছ...</td>\n",
       "      <td>2</td>\n",
       "    </tr>\n",
       "    <tr>\n",
       "      <th>4</th>\n",
       "      <td>সবসময় আপনার ভিডিও অপেক্ষায় থাকিএই ছবিটা অনেক ব...</td>\n",
       "      <td>1</td>\n",
       "    </tr>\n",
       "    <tr>\n",
       "      <th>...</th>\n",
       "      <td>...</td>\n",
       "      <td>...</td>\n",
       "    </tr>\n",
       "    <tr>\n",
       "      <th>18257</th>\n",
       "      <td>মানতে পারি নাই</td>\n",
       "      <td>2</td>\n",
       "    </tr>\n",
       "    <tr>\n",
       "      <th>18258</th>\n",
       "      <td>ভাই এটা কি দেখলাম</td>\n",
       "      <td>2</td>\n",
       "    </tr>\n",
       "    <tr>\n",
       "      <th>18259</th>\n",
       "      <td>একটা কমেন্ট রেখে গেলাম</td>\n",
       "      <td>1</td>\n",
       "    </tr>\n",
       "    <tr>\n",
       "      <th>18260</th>\n",
       "      <td>এটা কী হয়</td>\n",
       "      <td>2</td>\n",
       "    </tr>\n",
       "    <tr>\n",
       "      <th>18261</th>\n",
       "      <td>তোমার গল্প সব হলো পরাজিতো গল্প যয় কই পাবো</td>\n",
       "      <td>1</td>\n",
       "    </tr>\n",
       "  </tbody>\n",
       "</table>\n",
       "<p>18262 rows × 2 columns</p>\n",
       "</div>"
      ],
      "text/plain": [
       "                                                comments reaction_type\n",
       "0      নবীজির কণ্ঠে কোরআন তিলাওয়াত এতোই সুন্দর ছিলো য...             1\n",
       "1      ভাই ছোটবেলার কথা মনে পরে গেলো অনেকবার দেখেছি ছ...             2\n",
       "2                                     ওহ ভাই দারুন হয়েছে             1\n",
       "3      আমি ছোট বেলায় দেখেছি সিডি ডিক্স এখুব মজা পেয়েছ...             2\n",
       "4      সবসময় আপনার ভিডিও অপেক্ষায় থাকিএই ছবিটা অনেক ব...             1\n",
       "...                                                  ...           ...\n",
       "18257                                     মানতে পারি নাই             2\n",
       "18258                                  ভাই এটা কি দেখলাম             2\n",
       "18259                             একটা কমেন্ট রেখে গেলাম             1\n",
       "18260                                         এটা কী হয়             2\n",
       "18261          তোমার গল্প সব হলো পরাজিতো গল্প যয় কই পাবো             1\n",
       "\n",
       "[18262 rows x 2 columns]"
      ]
     },
     "execution_count": 16,
     "metadata": {},
     "output_type": "execute_result"
    }
   ],
   "source": [
    "df_data"
   ]
  },
  {
   "cell_type": "markdown",
   "id": "dc489d97-6070-4c39-93cc-fc8603a9a85c",
   "metadata": {},
   "source": [
    "## Splitin Data into 80% Train and 20% Test"
   ]
  },
  {
   "cell_type": "code",
   "execution_count": 17,
   "id": "0736b14a-cb4c-402a-9c4b-6eff95410a8f",
   "metadata": {},
   "outputs": [],
   "source": [
    "# Split data into train and test sets\n",
    "X_train, X_test, y_train, y_test = train_test_split(df_data['comments'], df_data['reaction_type'], test_size=0.2, random_state=42)"
   ]
  },
  {
   "cell_type": "markdown",
   "id": "e167aff4-1c7a-4f48-b279-d551e338665e",
   "metadata": {},
   "source": [
    "## Feature Extraction with TFIDF"
   ]
  },
  {
   "cell_type": "code",
   "execution_count": 18,
   "id": "70eb240c-f8b3-4c15-8b6b-5ae2dada0ee6",
   "metadata": {},
   "outputs": [],
   "source": [
    "\n",
    "# TF-IDF Vectorization\n",
    "tfidf_vectorizer = TfidfVectorizer(max_features=10000, ngram_range=(1, 3))\n",
    "X_train_tfidf = tfidf_vectorizer.fit_transform(X_train)\n",
    "X_test_tfidf = tfidf_vectorizer.transform(X_test)\n"
   ]
  },
  {
   "cell_type": "markdown",
   "id": "28e9d3dc-2948-40f5-95b1-406db656f14f",
   "metadata": {},
   "source": [
    "# CART Model"
   ]
  },
  {
   "cell_type": "markdown",
   "id": "c70f46e9-1b92-45d0-9e89-58a1cb0860c0",
   "metadata": {},
   "source": [
    "## CART Model and Calculate the Accuracy"
   ]
  },
  {
   "cell_type": "code",
   "execution_count": 19,
   "id": "348594d9-dc3b-4a15-a373-0063b3dbcf2b",
   "metadata": {},
   "outputs": [
    {
     "name": "stdout",
     "output_type": "stream",
     "text": [
      "Testing Accuracy: 0.5538\n",
      "Precision : 0.5490\n",
      "Recall : 0.5538\n",
      "F1 Score : 0.5512\n"
     ]
    }
   ],
   "source": [
    "# Train CART (Decision Tree) model\n",
    "cart = DecisionTreeClassifier(random_state=42)\n",
    "cart.fit(X_train_tfidf, y_train)\n",
    "\n",
    "# Make predictions\n",
    "y_pred = cart.predict(X_test_tfidf)\n",
    "y_prob = cart.predict_proba(X_test_tfidf)\n",
    "\n",
    "# Calculate metrics\n",
    "accuracy = cart.score(X_test_tfidf, y_test)\n",
    "precision = precision_score(y_test, y_pred, average='weighted')\n",
    "recall = recall_score(y_test, y_pred, average='weighted')\n",
    "fscore = f1_score(y_test, y_pred, average='weighted')\n",
    "\n",
    "print(f\"Testing Accuracy: {accuracy:.4f}\")\n",
    "print(f\"Precision : {precision:.4f}\")\n",
    "print(f\"Recall : {recall:.4f}\")\n",
    "print(f\"F1 Score : {fscore:.4f}\")\n"
   ]
  },
  {
   "cell_type": "markdown",
   "id": "db584bce-2610-43cc-bdd8-8a718ead9a1d",
   "metadata": {},
   "source": [
    "## Generate and Plot the Confusion Matrix"
   ]
  },
  {
   "cell_type": "code",
   "execution_count": 20,
   "id": "6380c896-eb1e-4b0b-a75a-7a9ffe3014e6",
   "metadata": {},
   "outputs": [
    {
     "data": {
      "image/png": "[encoded data removed]",
      "text/plain": [
       "<Figure size 900x900 with 2 Axes>"
      ]
     },
     "metadata": {},
     "output_type": "display_data"
    }
   ],
   "source": [
    "# Generate confusion matrix\n",
    "labels = ['0', '1', '2']\n",
    "cm = confusion_matrix(y_test, y_pred, labels=labels)\n",
    "cm_df = pd.DataFrame(cm, index=['Negative', 'Positive', 'Neutral'], columns=['Negative', 'Positive', 'Neutral'])\n",
    "\n",
    "# Plot confusion matrix\n",
    "plt.figure(figsize=(9, 9))\n",
    "sns.heatmap(cm_df, annot=True, fmt=\".3f\", linewidths=.5, square=True, cmap='Blues_r')\n",
    "plt.ylabel('Actual label')\n",
    "plt.xlabel('Predicted label')\n",
    "plt.title('Confusion Matrix with CART', size=15)\n",
    "plt.show()\n"
   ]
  },
  {
   "cell_type": "markdown",
   "id": "a4852ade-839b-4b8a-b0b3-8ea2cb5ecbc4",
   "metadata": {},
   "source": [
    "## Generate and Display the Classification Report"
   ]
  },
  {
   "cell_type": "code",
   "execution_count": 21,
   "id": "668460d5-56cb-417c-a183-0b71201c0c6f",
   "metadata": {},
   "outputs": [
    {
     "name": "stdout",
     "output_type": "stream",
     "text": [
      "Classification Report:\n",
      "              precision  recall  f1-score      support\n",
      "Negative           7.69    4.67      5.81   107.000000\n",
      "Positive          59.24   58.39     58.81  1894.000000\n",
      "Neutral           52.99   55.21     54.08  1652.000000\n",
      "accuracy          55.38   55.38     55.38     0.553791\n",
      "macro avg         39.97   39.42     39.57  3653.000000\n",
      "weighted avg      54.90   55.38     55.12  3653.000000\n"
     ]
    }
   ],
   "source": [
    "# Generate classification report\n",
    "report = pd.DataFrame(classification_report(y_test, y_pred, labels=labels, output_dict=True)).transpose()\n",
    "report = report.rename(index={'0': 'Negative', '1': 'Positive', '2': 'Neutral'})\n",
    "report[['precision', 'recall', 'f1-score']] = report[['precision', 'recall', 'f1-score']].apply(lambda x: round(x * 100, 2))\n",
    "\n",
    "# Display classification report\n",
    "print(\"Classification Report:\")\n",
    "print(report)\n"
   ]
  },
  {
   "cell_type": "markdown",
   "id": "cfe34493-f383-42e0-ab2d-23fc1f57a8b1",
   "metadata": {},
   "source": [
    "## Plot ROC Curves and Class Distribution Bar Plot"
   ]
  },
  {
   "cell_type": "code",
   "execution_count": 22,
   "id": "25242b8e-bf8f-4d67-8856-7656b2938ff1",
   "metadata": {},
   "outputs": [
    {
     "data": {
      "image/png": "[encoded data removed]",
      "text/plain": [
       "<Figure size 1200x800 with 1 Axes>"
      ]
     },
     "metadata": {},
     "output_type": "display_data"
    },
    {
     "data": {
      "image/png": "[encoded data removed]",
      "text/plain": [
       "<Figure size 800x500 with 1 Axes>"
      ]
     },
     "metadata": {},
     "output_type": "display_data"
    }
   ],
   "source": [
    "# ROC Curve\n",
    "# Binarize the output\n",
    "y_test_bin = label_binarize(y_test, classes=labels)\n",
    "n_classes = y_test_bin.shape[1]\n",
    "\n",
    "# Compute ROC curve and ROC area for each class\n",
    "fpr = dict()\n",
    "tpr = dict()\n",
    "roc_auc = dict()\n",
    "for i in range(n_classes):\n",
    "    fpr[i], tpr[i], _ = roc_curve(y_test_bin[:, i], y_prob[:, i])\n",
    "    roc_auc[i] = auc(fpr[i], tpr[i])\n",
    "\n",
    "# Plot ROC curves\n",
    "plt.figure(figsize=(12, 8))\n",
    "for i in range(n_classes):\n",
    "    plt.plot(fpr[i], tpr[i], label=f'{[\"Negative\", \"Positive\", \"Neutral\"][i]} (AUC = {roc_auc[i]:.2f})')\n",
    "\n",
    "plt.plot([0, 1], [0, 1], 'k--')\n",
    "plt.xlabel('False Positive Rate')\n",
    "plt.ylabel('True Positive Rate')\n",
    "plt.title('Receiver Operating Characteristic (ROC)')\n",
    "plt.legend(loc='best')\n",
    "plt.show()\n",
    "\n",
    "# Horizontal bar plot of predicted class distributions\n",
    "class_counts = pd.Series(y_pred).value_counts().sort_index()\n",
    "class_counts.index = ['Negative', 'Positive', 'Neutral']\n",
    "\n",
    "plt.figure(figsize=(8, 5))\n",
    "class_counts.plot(kind='barh', color='skyblue')\n",
    "plt.xlabel('Count')\n",
    "plt.ylabel('Class')\n",
    "plt.title('Distribution of Predicted Classes')\n",
    "plt.show()\n"
   ]
  }
 ],
 "metadata": {
  "kernelspec": {
   "display_name": "Python 3 (ipykernel)",
   "language": "python",
   "name": "python3"
  },
  "language_info": {
   "codemirror_mode": {
    "name": "ipython",
    "version": 3
   },
   "file_extension": ".py",
   "mimetype": "text/x-python",
   "name": "python",
   "nbconvert_exporter": "python",
   "pygments_lexer": "ipython3",
   "version": "3.12.3"
  }
 },
 "nbformat": 4,
 "nbformat_minor": 5
}
